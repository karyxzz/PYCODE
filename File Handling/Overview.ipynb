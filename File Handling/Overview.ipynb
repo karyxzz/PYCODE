{
 "cells": [
  {
   "cell_type": "code",
   "execution_count": null,
   "id": "cf8e9d92",
   "metadata": {},
   "outputs": [
    {
     "name": "stdout",
     "output_type": "stream",
     "text": [
      "Hello, \n",
      "My name is Kary \n",
      "I code in python\n"
     ]
    }
   ],
   "source": [
    "# Read a whole file \n",
    "\n",
    "            #filename  #operation\n",
    "with open('sample1.txt', 'r') as file:\n",
    "    content = file.read()           # read all the content and returns it\n",
    "    print(content)"
   ]
  },
  {
   "cell_type": "code",
   "execution_count": 4,
   "id": "3b3487d1",
   "metadata": {},
   "outputs": [
    {
     "name": "stdout",
     "output_type": "stream",
     "text": [
      "Hello, \n",
      "\n",
      "My name is Kary \n",
      "\n",
      "I code in python\n"
     ]
    }
   ],
   "source": [
    "# Read a file line by line\n",
    "\n",
    "with open('sample1.txt', 'r') as file:\n",
    "    for line in file:   # iterates through lines\n",
    "        print(line)     # considers '\\n' and leaves new line space for every iterator\n",
    "        \n",
    "    for line in file:\n",
    "        print(line.strip())  # Doesn't Consider new line character\n",
    "        "
   ]
  },
  {
   "cell_type": "code",
   "execution_count": null,
   "id": "1c36bae5",
   "metadata": {},
   "outputs": [
    {
     "name": "stdout",
     "output_type": "stream",
     "text": [
      "Hello,\n",
      "My name is Kary\n",
      "I code in python\n"
     ]
    }
   ],
   "source": [
    "# Reading File line by line without leaving space (i.e.) '\\n'\n",
    "\n",
    "with open('sample1.txt', 'r') as file:\n",
    "    for line in file:\n",
    "            print(line.strip())  # Doesn't Consider new line character"
   ]
  },
  {
   "cell_type": "code",
   "execution_count": null,
   "id": "114872bf",
   "metadata": {},
   "outputs": [],
   "source": [
    "# Writting in a file\n",
    "\n",
    "with open('sample1.txt', 'w') as file:\n",
    "    file.write('Hello, this one overwrites the content\\n')\n",
    "    \n",
    "    \n",
    "with open('sample2.txt', 'w') as file:                          # Creates a new file and writes in it.\n",
    "    file.write('Hello, this one overwrites the content\\n')"
   ]
  },
  {
   "cell_type": "code",
   "execution_count": 4,
   "id": "26177bb6",
   "metadata": {},
   "outputs": [],
   "source": [
    "# Writting a file without overwritting (i.e.) basically appending\n",
    "\n",
    "with open('sample1.txt', 'a') as file:\n",
    "    file.write('I am just appending something')"
   ]
  },
  {
   "cell_type": "code",
   "execution_count": null,
   "id": "f3fd46e8",
   "metadata": {},
   "outputs": [],
   "source": [
    "# Writting a list of lines\n",
    "\n",
    "lines_list = ['first line\\n', 'second line\\n', 'third line\\n']\n",
    "\n",
    "with open('sample1.txt', 'a') as file:\n",
    "    file.writelines(lines_list)         #takes in an iterator and writes it"
   ]
  },
  {
   "cell_type": "markdown",
   "id": "879948cf",
   "metadata": {},
   "source": [
    "--> Reading from source file and writting it in destination file"
   ]
  },
  {
   "cell_type": "code",
   "execution_count": 7,
   "id": "b4c1946d",
   "metadata": {},
   "outputs": [],
   "source": [
    "with open('sample1.txt', 'r') as file:\n",
    "    content = file.read()\n",
    "    \n",
    "with open('sample2.txt', 'w') as file:\n",
    "    file.write(content)"
   ]
  },
  {
   "cell_type": "markdown",
   "id": "ebad98bf",
   "metadata": {},
   "source": [
    "--> Read the txt file and count the number of words, lines and characters"
   ]
  },
  {
   "cell_type": "code",
   "execution_count": null,
   "id": "0756953a",
   "metadata": {},
   "outputs": [
    {
     "name": "stdout",
     "output_type": "stream",
     "text": [
      "5 17 103\n"
     ]
    }
   ],
   "source": [
    "with open('sample2.txt', 'r') as file:\n",
    "    lines_list = file.readlines()  # Reads every line and return it as an iterator\n",
    "    line_count = len(lines_list)\n",
    "    words_count = sum(len(line.split()) for line in lines_list)\n",
    "    char_count = sum(len(line) for line in lines_list)\n",
    "\n",
    "print(line_count, words_count, char_count)\n",
    "    "
   ]
  },
  {
   "cell_type": "markdown",
   "id": "08ca0fa8",
   "metadata": {},
   "source": [
    "--> Write and Read the file"
   ]
  },
  {
   "cell_type": "markdown",
   "id": "0a8b6469",
   "metadata": {},
   "source": [
    "w+ - allows us to read and write on the file under the same hood at once."
   ]
  },
  {
   "cell_type": "code",
   "execution_count": null,
   "id": "e2b7b802",
   "metadata": {},
   "outputs": [
    {
     "name": "stdout",
     "output_type": "stream",
     "text": [
      "Hello World\n",
      "This is the new line\n",
      "\n"
     ]
    }
   ],
   "source": [
    "with open('sample2.txt', 'w+') as file:\n",
    "    file.write(\"Hello World\\n\")\n",
    "    file.write(\"This is the new line\\n\")\n",
    "    \n",
    "    # Moving the cursor - as we write these above 2 lines currently the cursor will be at the 3rd line \n",
    "    # we need to move the cursor to the starting position\n",
    "    file.seek(0) # moves the file to line 0 (i.e.) starting position\n",
    "    \n",
    "    # Read the file content\n",
    "    content = file.read()\n",
    "    print(content)"
   ]
  },
  {
   "cell_type": "code",
   "execution_count": null,
   "metadata": {},
   "outputs": [],
   "source": []
  },
  {
   "cell_type": "code",
   "execution_count": null,
   "id": "54cd0a1f",
   "metadata": {},
   "outputs": [],
   "source": []
  }
 ],
 "metadata": {
  "kernelspec": {
   "display_name": "base",
   "language": "python",
   "name": "python3"
  },
  "language_info": {
   "codemirror_mode": {
    "name": "ipython",
    "version": 3
   },
   "file_extension": ".py",
   "mimetype": "text/x-python",
   "name": "python",
   "nbconvert_exporter": "python",
   "pygments_lexer": "ipython3",
   "version": "3.12.7"
  }
 },
 "nbformat": 4,
 "nbformat_minor": 5
}
