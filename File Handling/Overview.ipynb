{
 "cells": [
  {
   "cell_type": "code",
   "execution_count": null,
   "id": "cf8e9d92",
   "metadata": {},
   "outputs": [
    {
     "name": "stdout",
     "output_type": "stream",
     "text": [
      "Hello, \n",
      "My name is Kary \n",
      "I code in python\n"
     ]
    }
   ],
   "source": [
    "# Read a whole file \n",
    "\n",
    "            #filename  #operation\n",
    "with open('sample1.txt', 'r') as file:\n",
    "    content = file.read()           #read all the content\n",
    "    print(content)"
   ]
  },
  {
   "cell_type": "code",
   "execution_count": 4,
   "id": "3b3487d1",
   "metadata": {},
   "outputs": [
    {
     "name": "stdout",
     "output_type": "stream",
     "text": [
      "Hello, \n",
      "\n",
      "My name is Kary \n",
      "\n",
      "I code in python\n"
     ]
    }
   ],
   "source": [
    "# Read a file line by line\n",
    "\n",
    "with open('sample1.txt', 'r') as file:\n",
    "    for line in file:   # iterates through lines\n",
    "        print(line)     # considers '\\n' and leaves new line space for every iterator\n",
    "        \n",
    "    for line in file:\n",
    "        print(line.strip())  # Doesn't Consider new line character\n",
    "        "
   ]
  },
  {
   "cell_type": "code",
   "execution_count": null,
   "id": "1c36bae5",
   "metadata": {},
   "outputs": [
    {
     "name": "stdout",
     "output_type": "stream",
     "text": [
      "Hello,\n",
      "My name is Kary\n",
      "I code in python\n"
     ]
    }
   ],
   "source": [
    "# Reading File line by line without leaving space (i.e.) '\\n'\n",
    "\n",
    "with open('sample1.txt', 'r') as file:\n",
    "    for line in file:\n",
    "            print(line.strip())  # Doesn't Consider new line character"
   ]
  },
  {
   "cell_type": "code",
   "execution_count": null,
   "id": "114872bf",
   "metadata": {},
   "outputs": [],
   "source": []
  }
 ],
 "metadata": {
  "kernelspec": {
   "display_name": "base",
   "language": "python",
   "name": "python3"
  },
  "language_info": {
   "codemirror_mode": {
    "name": "ipython",
    "version": 3
   },
   "file_extension": ".py",
   "mimetype": "text/x-python",
   "name": "python",
   "nbconvert_exporter": "python",
   "pygments_lexer": "ipython3",
   "version": "3.12.7"
  }
 },
 "nbformat": 4,
 "nbformat_minor": 5
}
