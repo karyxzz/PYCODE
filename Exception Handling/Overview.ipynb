{
 "cells": [
  {
   "cell_type": "markdown",
   "id": "1238d5e1",
   "metadata": {},
   "source": []
  },
  {
   "cell_type": "code",
   "execution_count": null,
   "id": "44996bdc",
   "metadata": {},
   "outputs": [],
   "source": []
  }
 ],
 "metadata": {
  "language_info": {
   "name": "python"
  }
 },
 "nbformat": 4,
 "nbformat_minor": 5
}
