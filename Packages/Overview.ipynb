{
 "cells": [
  {
   "cell_type": "markdown",
   "id": "bb4b10c3",
   "metadata": {},
   "source": [
    "#OS Package\n",
    "\n",
    "- Provides us with file and directory access"
   ]
  },
  {
   "cell_type": "code",
   "execution_count": 1,
   "id": "8c181794",
   "metadata": {},
   "outputs": [],
   "source": [
    "import os"
   ]
  },
  {
   "cell_type": "code",
   "execution_count": 2,
   "id": "8bec5f50",
   "metadata": {},
   "outputs": [
    {
     "name": "stdout",
     "output_type": "stream",
     "text": [
      "d:\\PYCODE\\Packages\n"
     ]
    }
   ],
   "source": [
    "# Display Current Working Directory\n",
    "\n",
    "print(os.getcwd())"
   ]
  },
  {
   "cell_type": "code",
   "execution_count": 3,
   "id": "630e9909",
   "metadata": {},
   "outputs": [],
   "source": [
    "# Create a new folder (i.e.) directory\n",
    "\n",
    "os.mkdir('creating_new_dir') # The folder is named as per the parameter"
   ]
  },
  {
   "cell_type": "markdown",
   "id": "e2216204",
   "metadata": {},
   "source": [
    "#Shutil - Package"
   ]
  },
  {
   "cell_type": "markdown",
   "id": "8625c31c",
   "metadata": {},
   "source": [
    "- Allows us to do some high level operations like copy etc.."
   ]
  },
  {
   "cell_type": "code",
   "execution_count": 4,
   "id": "e4e93e25",
   "metadata": {},
   "outputs": [],
   "source": [
    "import shutil"
   ]
  },
  {
   "cell_type": "code",
   "execution_count": 6,
   "id": "e93292c2",
   "metadata": {},
   "outputs": [
    {
     "data": {
      "text/plain": [
       "'text2.txt'"
      ]
     },
     "execution_count": 6,
     "metadata": {},
     "output_type": "execute_result"
    }
   ],
   "source": [
    "shutil.copyfile('text1.txt', 'text2.txt')"
   ]
  },
  {
   "cell_type": "markdown",
   "id": "9dafaba2",
   "metadata": {},
   "source": [
    "#Data Serialization"
   ]
  },
  {
   "cell_type": "markdown",
   "id": "8fa7eedf",
   "metadata": {},
   "source": [
    "- Serialization is a process in which some data structure like dictionary, list etc.. is converted into json or bytes etc.. to provide data transmission.\n",
    "\n",
    "- The Goal is store the object state and it can be reconstructed afterwards."
   ]
  },
  {
   "cell_type": "code",
   "execution_count": 7,
   "id": "45319e40",
   "metadata": {},
   "outputs": [],
   "source": [
    "import json"
   ]
  },
  {
   "cell_type": "code",
   "execution_count": 8,
   "id": "f0c25d01",
   "metadata": {},
   "outputs": [],
   "source": [
    "data = {\n",
    "    'name' : 'Kary',\n",
    "    'age' : 20,\n",
    "}"
   ]
  },
  {
   "cell_type": "code",
   "execution_count": 9,
   "id": "aaab7032",
   "metadata": {},
   "outputs": [
    {
     "name": "stdout",
     "output_type": "stream",
     "text": [
      "{\"name\": \"Kary\", \"age\": 20} <class 'str'>\n",
      "{'name': 'Kary', 'age': 20} <class 'dict'>\n"
     ]
    }
   ],
   "source": [
    "json_str = json.dumps(data) # converts the dictionary into a string - Serialization\n",
    "print(json_str, type(json_str))\n",
    "\n",
    "json_dict = json.loads(json_str) # converts the string back into a dictionary - Deserialization\n",
    "print(json_dict, type(json_dict))"
   ]
  },
  {
   "cell_type": "markdown",
   "id": "7ab12d1b",
   "metadata": {},
   "source": [
    "#CSV - Comma Serperated Values Package"
   ]
  },
  {
   "cell_type": "code",
   "execution_count": 10,
   "id": "a96105f4",
   "metadata": {},
   "outputs": [],
   "source": [
    "import csv"
   ]
  },
  {
   "cell_type": "code",
   "execution_count": 11,
   "id": "b997f315",
   "metadata": {},
   "outputs": [],
   "source": [
    "with open('sample.csv', mode='w', newline='') as file:\n",
    "    writer = csv.writer(file)\n",
    "    writer.writerow(['Name', 'Age'])    # Creates them as comma seperated entities\n",
    "    writer.writerow(['Kary', '20'])\n",
    "    writer.writerow(['Dhara', '20'])"
   ]
  },
  {
   "cell_type": "code",
   "execution_count": 12,
   "id": "105a5a64",
   "metadata": {},
   "outputs": [
    {
     "name": "stdout",
     "output_type": "stream",
     "text": [
      "['Name', 'Age']\n",
      "['Kary', '20']\n",
      "['Dhara', '20']\n"
     ]
    }
   ],
   "source": [
    "with open('sample.csv', mode='r') as file:\n",
    "    reader = csv.reader(file)\n",
    "    for row in reader:\n",
    "        print(row)"
   ]
  },
  {
   "cell_type": "markdown",
   "id": "0c96733e",
   "metadata": {},
   "source": [
    "#Date-Time Package"
   ]
  },
  {
   "cell_type": "markdown",
   "id": "b2e2bdf1",
   "metadata": {},
   "source": [
    "- Allows us to work with Date and Time"
   ]
  },
  {
   "cell_type": "code",
   "execution_count": 13,
   "id": "a75ce1b0",
   "metadata": {},
   "outputs": [],
   "source": [
    "from datetime import *"
   ]
  },
  {
   "cell_type": "code",
   "execution_count": 14,
   "id": "a6625bc9",
   "metadata": {},
   "outputs": [
    {
     "name": "stdout",
     "output_type": "stream",
     "text": [
      "2025-07-24 01:05:20.523612\n",
      "2025-07-23 01:05:20.523612\n"
     ]
    }
   ],
   "source": [
    "# Obtain current date-time\n",
    "\n",
    "now = datetime.now()\n",
    "print(now)\n",
    "\n",
    "# Change in Time - Time Delta \n",
    "# - For eg : I want to obtain the time of yesterday by now\n",
    "\n",
    "yesterday = now - timedelta(days=1) # timedelta provides the change in time\n",
    "print(yesterday)"
   ]
  },
  {
   "cell_type": "markdown",
   "id": "e91a714c",
   "metadata": {},
   "source": [
    "- Making the program sleep"
   ]
  },
  {
   "cell_type": "code",
   "execution_count": 15,
   "id": "c186b747",
   "metadata": {},
   "outputs": [
    {
     "name": "stdout",
     "output_type": "stream",
     "text": [
      "1753299324.2541592\n",
      "1753299326.2555633\n"
     ]
    }
   ],
   "source": [
    "import time\n",
    "\n",
    "print(time.time())\n",
    "\n",
    "time.sleep(2) # Sleeps for 2 - Basically stops the execution of upcoming for 2 seconds\n",
    "\n",
    "print(time.time())"
   ]
  },
  {
   "cell_type": "markdown",
   "id": "abfb422a",
   "metadata": {},
   "source": [
    "#Regular Expression"
   ]
  },
  {
   "cell_type": "markdown",
   "id": "690ec320",
   "metadata": {},
   "source": [
    "- Helps to indentify and match patterns"
   ]
  },
  {
   "cell_type": "code",
   "execution_count": null,
   "id": "58ec8d72",
   "metadata": {},
   "outputs": [],
   "source": []
  },
  {
   "cell_type": "code",
   "execution_count": null,
   "id": "2e9d3101",
   "metadata": {},
   "outputs": [],
   "source": []
  }
 ],
 "metadata": {
  "kernelspec": {
   "display_name": "base",
   "language": "python",
   "name": "python3"
  },
  "language_info": {
   "codemirror_mode": {
    "name": "ipython",
    "version": 3
   },
   "file_extension": ".py",
   "mimetype": "text/x-python",
   "name": "python",
   "nbconvert_exporter": "python",
   "pygments_lexer": "ipython3",
   "version": "3.12.7"
  }
 },
 "nbformat": 4,
 "nbformat_minor": 5
}
