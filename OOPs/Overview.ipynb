{
 "cells": [
  {
   "cell_type": "markdown",
   "id": "94206075",
   "metadata": {},
   "source": [
    "##OOPs - Object Oriented Programming\n",
    "\n",
    "* We create Classes (i.e.) like a template code with its own attributes and methods and We could create an object out of it by assigning values for those attributes and methods in the template code."
   ]
  },
  {
   "cell_type": "code",
   "execution_count": 5,
   "id": "ced911e3",
   "metadata": {},
   "outputs": [
    {
     "name": "stdout",
     "output_type": "stream",
     "text": [
      "I am riding a car\n"
     ]
    }
   ],
   "source": [
    "class Car: \n",
    "    def ride(self):\n",
    "        return 'I am riding a car'\n",
    "    \n",
    "car1 = Car()\n",
    "print(car1.ride())"
   ]
  },
  {
   "cell_type": "markdown",
   "id": "df8fcb63",
   "metadata": {},
   "source": [
    "#Class vs Instance\n",
    "\n",
    "- Class : It is the template code we create. We initailize methods and attributes for reuse.\n",
    "- Instance : We assign attributes(data fields) and create an instance out of the class and then use the methods."
   ]
  },
  {
   "cell_type": "markdown",
   "id": "5ae5b2da",
   "metadata": {},
   "source": [
    "#'self' - What's that ?\n",
    "\n",
    "- It is a convention for instance reference for the class object itself.\n",
    "- We use it to reference the instance while creating the class.\n",
    "- It is the first parameter of every instance method inside the class.\n",
    "- Helps use access, modify and intialize attributes and methods inside the class.\n",
    "\n",
    "\n",
    "When a new instance is created like in the above example car1 = Car() \n",
    "- The 'self' is automatically replaced by car1 instance and we call car1.ride() instead of self.ride()"
   ]
  },
  {
   "cell_type": "code",
   "execution_count": 7,
   "id": "ef5d2ab0",
   "metadata": {},
   "outputs": [
    {
     "data": {
      "text/plain": [
       "('duelist', 'jett', 'korean')"
      ]
     },
     "execution_count": 7,
     "metadata": {},
     "output_type": "execute_result"
    }
   ],
   "source": [
    "class Agent:\n",
    "    def __init__(self, role, name, location):\n",
    "        self.role = role\n",
    "        self.name = name\n",
    "        self.location = location\n",
    "        \n",
    "    def display(self):\n",
    "        return self.role, self.name, self.location\n",
    "    \n",
    "jett = Agent('duelist', 'jett', 'korean')\n",
    "jett.display()"
   ]
  },
  {
   "cell_type": "markdown",
   "id": "60a156ed",
   "metadata": {},
   "source": [
    "#_ __init__ _() method\n",
    "\n",
    "- Special Instance method used to intialize the instance attributes\n",
    "- Ofted called as constructor or intializer\n",
    "- Atleast has one parameter (i.e.) 'self' and additional paramters are instance attributes - data\n",
    "- Automatically called once when an instance is created."
   ]
  },
  {
   "cell_type": "code",
   "execution_count": 8,
   "id": "44dbb068",
   "metadata": {},
   "outputs": [
    {
     "data": {
      "text/plain": [
       "('controller', 'harbour', 'india')"
      ]
     },
     "execution_count": 8,
     "metadata": {},
     "output_type": "execute_result"
    }
   ],
   "source": [
    "harbour = Agent('controller', 'harbour', 'india')\n",
    "harbour.display()"
   ]
  }
 ],
 "metadata": {
  "kernelspec": {
   "display_name": "base",
   "language": "python",
   "name": "python3"
  },
  "language_info": {
   "codemirror_mode": {
    "name": "ipython",
    "version": 3
   },
   "file_extension": ".py",
   "mimetype": "text/x-python",
   "name": "python",
   "nbconvert_exporter": "python",
   "pygments_lexer": "ipython3",
   "version": "3.12.7"
  }
 },
 "nbformat": 4,
 "nbformat_minor": 5
}
