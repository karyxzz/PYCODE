{
 "cells": [
  {
   "cell_type": "markdown",
   "id": "94206075",
   "metadata": {},
   "source": [
    "##OOPs - Object Oriented Programming\n",
    "\n",
    "* We create Classes (i.e.) like a template code with its own attributes and methods and We could create an object out of it by assigning values for those attributes and methods in the template code."
   ]
  },
  {
   "cell_type": "code",
   "execution_count": null,
   "id": "ced911e3",
   "metadata": {},
   "outputs": [],
   "source": [
    "class Car: \n",
    "    pass\n"
   ]
  }
 ],
 "metadata": {
  "language_info": {
   "name": "python"
  }
 },
 "nbformat": 4,
 "nbformat_minor": 5
}
